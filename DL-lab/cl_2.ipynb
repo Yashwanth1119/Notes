{
 "cells": [
  {
   "cell_type": "code",
   "execution_count": 6,
   "metadata": {},
   "outputs": [
    {
     "ename": "SyntaxError",
     "evalue": "invalid syntax (635635655.py, line 2)",
     "output_type": "error",
     "traceback": [
      "\u001b[0;36m  Cell \u001b[0;32mIn[6], line 2\u001b[0;36m\u001b[0m\n\u001b[0;31m    pip install scikit-learn\u001b[0m\n\u001b[0m        ^\u001b[0m\n\u001b[0;31mSyntaxError\u001b[0m\u001b[0;31m:\u001b[0m invalid syntax\n"
     ]
    }
   ],
   "source": [
    "#Gauss Naive Bayes classifier\n",
    "pip install scikit-learn"
   ]
  },
  {
   "cell_type": "code",
   "execution_count": 5,
   "metadata": {},
   "outputs": [
    {
     "ename": "ModuleNotFoundError",
     "evalue": "No module named 'sklearn'",
     "output_type": "error",
     "traceback": [
      "\u001b[0;31m---------------------------------------------------------------------------\u001b[0m",
      "\u001b[0;31mModuleNotFoundError\u001b[0m                       Traceback (most recent call last)",
      "Cell \u001b[0;32mIn[5], line 2\u001b[0m\n\u001b[1;32m      1\u001b[0m \u001b[38;5;66;03m# Importing the necessary packages\u001b[39;00m\n\u001b[0;32m----> 2\u001b[0m \u001b[38;5;28;01mimport\u001b[39;00m \u001b[38;5;21;01msklearn\u001b[39;00m\n\u001b[1;32m      3\u001b[0m \u001b[38;5;28;01mfrom\u001b[39;00m \u001b[38;5;21;01msklearn\u001b[39;00m\u001b[38;5;21;01m.\u001b[39;00m\u001b[38;5;21;01mdatasets\u001b[39;00m \u001b[38;5;28;01mimport\u001b[39;00m load_breast_cancer\n\u001b[1;32m      5\u001b[0m \u001b[38;5;66;03m# Loading the dataset and organizing the data\u001b[39;00m\n",
      "\u001b[0;31mModuleNotFoundError\u001b[0m: No module named 'sklearn'"
     ]
    }
   ],
   "source": [
    "# Importing the necessary packages\n",
    "import sklearn\n",
    "from sklearn.datasets import load_breast_cancer\n",
    "\n",
    "# Loading the dataset and organizing the data\n",
    "DataSet = load_breast_cancer()\n",
    "labelnames = DataSet['target_names']\n",
    "labels = DataSet['target']\n",
    "featurenames = DataSet['feature_names']\n",
    "features = DataSet['data']\n",
    "\n",
    "# Organizing dataset into training and testing set\n",
    "# by using train_test_split() function\n",
    "from sklearn.model_selection import train_test_split\n",
    "train, test, train_labels, test_labels = train_test_split(features,labels,test_size = 0.30, random_state = 300)\n",
    "\n",
    "# Model evaluation by using Naïve Bayes algorithm.\n",
    "from sklearn.naive_bayes import GaussianNB\n",
    "\n",
    "# Let's initializing the model:\n",
    "NBclassifier = GaussianNB()\n",
    "\n",
    "# Train the model:\n",
    "NBmodel = NBclassifier.fit(train, train_labels)\n",
    "\n",
    "# Making predictions by using pred() function:\n",
    "NBpreds = NBclassifier.predict(test)\n",
    "print(\"The predictions are:\\n\", NBpreds[:15])\n",
    "\n",
    "# Finding accuracy of our Naive Bayes classifier:\n",
    "from sklearn.metrics import accuracy_score\n",
    "print(\"Accuracy of our classifier is:\", accuracy_score(test_labels, NBpreds) *100)"
   ]
  },
  {
   "cell_type": "code",
   "execution_count": null,
   "metadata": {},
   "outputs": [],
   "source": []
  }
 ],
 "metadata": {
  "kernelspec": {
   "display_name": "Python 3.8.10 64-bit",
   "language": "python",
   "name": "python3"
  },
  "language_info": {
   "codemirror_mode": {
    "name": "ipython",
    "version": 3
   },
   "file_extension": ".py",
   "mimetype": "text/x-python",
   "name": "python",
   "nbconvert_exporter": "python",
   "pygments_lexer": "ipython3",
   "version": "3.8.10"
  },
  "orig_nbformat": 4,
  "vscode": {
   "interpreter": {
    "hash": "e7370f93d1d0cde622a1f8e1c04877d8463912d04d973331ad4851f04de6915a"
   }
  }
 },
 "nbformat": 4,
 "nbformat_minor": 2
}
